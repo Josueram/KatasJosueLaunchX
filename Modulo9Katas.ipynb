{
  "cells": [
    {
      "cell_type": "markdown",
      "metadata": {},
      "source": [
        "# Ejercicio: Uso de funciones en Python"
      ]
    },
    {
      "cell_type": "markdown",
      "metadata": {},
      "source": [
        "### Ejercicio 1: Trabajar con argumentos en funciones\n",
        "\n",
        "Los argumentos requeridos en las funciones se utilizan cuando las funciones necesitan que esos argumentos funcionen correctamente. En este ejercicio, construirás un informe de combustible que requiere información de varias ubicaciones de combustible en todo el cohete.\n",
        "\n"
      ]
    },
    {
      "cell_type": "markdown",
      "metadata": {},
      "source": [
        "> **TIP**\n",
        "> Dedica unos minutos para tratar de encontrar una solución. Luego desplázate hacia abajo hasta la parte inferior para ver si has logrado compilar el programa de acuerdo con las especificaciones\n",
        "\n",
        "Comienza por crear una función que necesite tres lecturas de combustible y devuelva un informe:"
      ]
    },
    {
      "cell_type": "code",
      "execution_count": 8,
      "metadata": {},
      "outputs": [],
      "source": [
        "# Función para leer 3 tanques de combustible y muestre el promedio\n",
        "def reporte_de_combustible(tanque1, tanque2, tanque3):\n",
        "    informe = f\"\"\"\n",
        "    Lecturas de combustible:\n",
        "    Tanque 1: {tanque1}\n",
        "    Tanque 2: {tanque2}\n",
        "    Tanque 3: {tanque3}\n",
        "    Promedio: {(tanque1 + tanque2 + tanque3) / 3}\n",
        "    \"\"\"\n",
        "    return informe"
      ]
    },
    {
      "cell_type": "markdown",
      "metadata": {},
      "source": [
        "Ahora que hemos definido la función de informes, vamos a comprobarlo. Para esta misión, los tanques no están llenos:"
      ]
    },
    {
      "cell_type": "code",
      "execution_count": 9,
      "metadata": {},
      "outputs": [
        {
          "name": "stdout",
          "output_type": "stream",
          "text": [
            "\n",
            "    Lecturas de combustible:\n",
            "    Tanque 1: 35\n",
            "    Tanque 2: 25\n",
            "    Tanque 3: 40\n",
            "    Promedio: 33.333333333333336\n",
            "    \n"
          ]
        }
      ],
      "source": [
        "\n",
        "# Llamamos a la función que genera el reporte print(funcion(tanque1, tanque2, tanque3))\n",
        "print(reporte_de_combustible(35, 25, 40))"
      ]
    },
    {
      "cell_type": "markdown",
      "metadata": {},
      "source": [
        "En lugar de simplemente crear el informe, la función también está calculando el promedio. Mejora la legibilidad extrayendo el cálculo promedio de la función en una nueva función para que el promedio se pueda hacer de forma independiente:"
      ]
    },
    {
      "cell_type": "code",
      "execution_count": 16,
      "metadata": {},
      "outputs": [
        {
          "name": "stdout",
          "output_type": "stream",
          "text": [
            "10.0\n"
          ]
        }
      ],
      "source": [
        "# Función promedio\n",
        "def promedio_combustible(valores) :\n",
        "    suma_total = sum(valores)\n",
        "    total = len(valores)\n",
        "    promedio = suma_total / total\n",
        "    return promedio"
      ]
    },
    {
      "cell_type": "markdown",
      "metadata": {},
      "source": [
        "Ahora actualiza la función de informes para llamando a la nueva función del promedio:\n"
      ]
    },
    {
      "cell_type": "code",
      "execution_count": 18,
      "metadata": {},
      "outputs": [],
      "source": [
        "# Actualiza la función\n",
        "def reporte_de_combustible(tanque1, tanque2, tanque3):\n",
        "    informe = f\"\"\"\n",
        "    Lecturas de combustible:\n",
        "    Tanque 1: {tanque1}\n",
        "    Tanque 2: {tanque2}\n",
        "    Tanque 3: {tanque3}\n",
        "    Promedio: {promedio_combustible([tanque1, tanque2, tanque3])}\n",
        "    \"\"\"\n",
        "    return informe"
      ]
    },
    {
      "cell_type": "markdown",
      "metadata": {},
      "source": [
        "> Recuerda: Lo importante es intentarlo, puedes auxiliarte de internet, libros, etc. El objetivo de una kata es la comprobación de la comprensión de la lección y su aplicación inmediata a la resolución de problemas. Go for it!"
      ]
    },
    {
      "cell_type": "markdown",
      "metadata": {},
      "source": [
        "## Ejercicio 2: Trabajo con argumentos de palabra clave"
      ]
    },
    {
      "cell_type": "markdown",
      "metadata": {},
      "source": [
        "### Ejercicio : Trabajar con argumentos de palabras clave en funciones\n",
        "En este ejercicio, construirás un informe de cohete que requiere varias piezas de información, como el tiempo hasta el destino, el combustible a la izquierda y el nombre del destino. Comienza por crear una función que creará un informe preciso de la misión:"
      ]
    },
    {
      "cell_type": "code",
      "execution_count": 22,
      "metadata": {},
      "outputs": [
        {
          "name": "stdout",
          "output_type": "stream",
          "text": [
            "\n",
            "    Informe de la misión:\n",
            "    Hora de prelanzamiento: 14:20 hrs.\n",
            "    Tiempo de vuelo: 60 min.\n",
            "    Destino: Marte\n",
            "    Nivel de tanque externo: 100 L.\n",
            "    Nivel de tanque interno: 100 L.\n",
            "    Total de niveles de tanques: 200 L.\n",
            "    \n"
          ]
        }
      ],
      "source": [
        "# Función con un informe preciso de la misión. Considera hora de prelanzamiento, tiempo de vuelo, destino, tanque externo y tanque interno\n",
        "def informe_de_la_mision(hora_prelanzamiento, tiempo_vuelo, destino, tanque_ext, tanque_int):\n",
        "    return f\"\"\"\n",
        "    Informe de la misión:\n",
        "    Hora de prelanzamiento: {hora_prelanzamiento} hrs.\n",
        "    Tiempo de vuelo: {tiempo_vuelo} min.\n",
        "    Destino: {destino}\n",
        "    Nivel de tanque externo: {tanque_ext} L.\n",
        "    Nivel de tanque interno: {tanque_int} L.\n",
        "    Total de niveles de tanques: {tanque_ext + tanque_int} L.\n",
        "    \"\"\"\n",
        "\n",
        "print(informe_de_la_mision('14:20', 60, 'Marte', 100, 100))"
      ]
    },
    {
      "cell_type": "markdown",
      "metadata": {},
      "source": [
        "La función es problemática porque no se puede adaptar para minutos adicionales o tanques adicionales de combustible. Hazlo más flexible permitiendo cualquier número de pasos basados en el tiempo y cualquier número de tanques. En lugar de usar `*args` y `**kwargs`, aprovecha el hecho de que puedes usar cualquier nombre que desees. Asegurate que la función sea más legible mediante el uso de nombres de variables que están asociados con las entradas, como `*minutes` y `**fuel_reservoirs`:"
      ]
    },
    {
      "cell_type": "code",
      "execution_count": 25,
      "metadata": {},
      "outputs": [
        {
          "name": "stdout",
          "output_type": "stream",
          "text": [
            "\n",
            "    Informe de la misión:\n",
            "    Hora de prelanzamiento: 20:00 hrs.\n",
            "    Tiempo de vuelo: 120 min.\n",
            "    Destino: Marte\n",
            "    Total de niveles de tanques: 200000 L.\n",
            "    \n"
          ]
        }
      ],
      "source": [
        "# Escribe tu nueva función de reporte considerando lo anterior\n",
        "def informe_de_la_mision(destino, hora_prelanzamiento, *tiempo_vuelo, **tanques_gas):\n",
        "    return f\"\"\"\n",
        "    Informe de la misión:\n",
        "    Hora de prelanzamiento: {hora_prelanzamiento} hrs.\n",
        "    Tiempo de vuelo: {sum(tiempo_vuelo)} min.\n",
        "    Destino: {destino}\n",
        "    Total de niveles de tanques: {sum(tanques_gas.values())} L.\n",
        "    \"\"\"\n",
        "\n",
        "print(informe_de_la_mision('Marte', '20:00', 120, interno = 100000, externo = 100000))"
      ]
    },
    {
      "cell_type": "markdown",
      "metadata": {},
      "source": [
        "Debido a que el combustible que queda en los tanques es específico de cada tanque, actualiza la función para usar el nombre de cada tanque en el informe:"
      ]
    },
    {
      "cell_type": "code",
      "execution_count": 44,
      "metadata": {},
      "outputs": [
        {
          "name": "stdout",
          "output_type": "stream",
          "text": [
            "\n",
            "    Informe de la misión:\n",
            "    Hora de prelanzamiento: 20:00 hrs.\n",
            "    Tiempo de vuelo: 120 min.\n",
            "    Destino: Marte\n",
            "    Total de niveles de tanques: 200000 L.\n",
            "    Tanque interno tiene 100000 L. \n",
            "Tanque externo tiene 100000 L. \n",
            "\n"
          ]
        }
      ],
      "source": [
        "# Escribe tu nueva función\n",
        "def informe_de_la_mision(destino, hora_prelanzamiento, *tiempo_vuelo, **tanques_gas):\n",
        "    informe = f\"\"\"\n",
        "    Informe de la misión:\n",
        "    Hora de prelanzamiento: {hora_prelanzamiento} hrs.\n",
        "    Tiempo de vuelo: {sum(tiempo_vuelo)} min.\n",
        "    Destino: {destino}\n",
        "    Total de niveles de tanques: {sum(tanques_gas.values())} L.\n",
        "    \"\"\"\n",
        "\n",
        "    for nombre_tanque, litros in tanques_gas.items():\n",
        "        informe += f\"Tanque {nombre_tanque} tiene {litros} L. \\n\"\n",
        "    return informe\n",
        "        \n",
        "\n",
        "print(informe_de_la_mision('Marte', '20:00', 120, interno = 100000, externo = 100000))"
      ]
    },
    {
      "cell_type": "markdown",
      "metadata": {},
      "source": [
        "---\n",
        "\n",
        "Curso Propedútico de Python para Launch X - Innovacción Virtual.\n",
        "\n",
        "Material desarrollado con base en los contenidos de MSLearn y la metáfora de LaunchX, traducción e implementación por: Fernanda Ochoa - Learning Producer de LaunchX.\n",
        "\n",
        "Redes:\n",
        "* GitHub: [FernandaOchoa](https://github.com/FernandaOchoa)\n",
        "* Twitter: [@imonsh](https://twitter.com/imonsh)\n",
        "* Instagram: [fherz8a](https://www.instagram.com/fherz8a/)"
      ]
    }
  ],
  "metadata": {
    "interpreter": {
      "hash": "205095b8b86ea82a021a8fc2ffba2b3bc9f8d0be25999901963b225939f75778"
    },
    "kernelspec": {
      "display_name": "Python 3.8.10 64-bit ('tmp': conda)",
      "name": "python3"
    },
    "language_info": {
      "codemirror_mode": {
        "name": "ipython",
        "version": 3
      },
      "file_extension": ".py",
      "mimetype": "text/x-python",
      "name": "python",
      "nbconvert_exporter": "python",
      "pygments_lexer": "ipython3",
      "version": "3.10.1"
    },
    "nteract": {
      "version": "nteract-front-end@1.0.0"
    },
    "orig_nbformat": 4
  },
  "nbformat": 4,
  "nbformat_minor": 2
}
